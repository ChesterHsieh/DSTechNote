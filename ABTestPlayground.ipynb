{
 "cells": [
  {
   "cell_type": "code",
   "execution_count": 41,
   "metadata": {
    "ExecuteTime": {
     "end_time": "2018-11-08T01:29:19.959852Z",
     "start_time": "2018-11-08T01:29:19.735558Z"
    }
   },
   "outputs": [],
   "source": [
    "import scipy.stats as stats\n",
    "import numpy as np\n",
    "import matplotlib.pyplot as plt\n",
    "% matplotlib inline"
   ]
  },
  {
   "cell_type": "code",
   "execution_count": null,
   "metadata": {
    "collapsed": true
   },
   "outputs": [],
   "source": [
    "plt.hist"
   ]
  },
  {
   "cell_type": "markdown",
   "metadata": {
    "ExecuteTime": {
     "end_time": "2018-11-08T01:20:50.699016Z",
     "start_time": "2018-11-08T01:20:50.694729Z"
    }
   },
   "source": [
    "## Genereate  Sample Data"
   ]
  },
  {
   "cell_type": "code",
   "execution_count": 21,
   "metadata": {
    "ExecuteTime": {
     "end_time": "2018-11-08T01:23:48.417410Z",
     "start_time": "2018-11-08T01:23:48.404482Z"
    },
    "collapsed": true
   },
   "outputs": [],
   "source": [
    "sample_norm = np.random.normal(loc=0.0, scale=1.0, size=1000)"
   ]
  },
  {
   "cell_type": "code",
   "execution_count": 42,
   "metadata": {
    "ExecuteTime": {
     "end_time": "2018-11-08T01:29:32.144320Z",
     "start_time": "2018-11-08T01:29:31.850537Z"
    },
    "scrolled": true
   },
   "outputs": [
    {
     "data": {
      "text/plain": [
       "(array([  2.,  17.,  47., 139., 221., 262., 176.,  96.,  35.,   5.]),\n",
       " array([-3.42805592, -2.78750108, -2.14694625, -1.50639141, -0.86583657,\n",
       "        -0.22528174,  0.4152731 ,  1.05582794,  1.69638277,  2.33693761,\n",
       "         2.97749244]),\n",
       " <a list of 10 Patch objects>)"
      ]
     },
     "execution_count": 42,
     "metadata": {},
     "output_type": "execute_result"
    },
    {
     "data": {
      "image/png": "[encoded data removed]",
      "text/plain": [
       "<matplotlib.figure.Figure at 0x7f4f42dac748>"
      ]
     },
     "metadata": {},
     "output_type": "display_data"
    }
   ],
   "source": [
    "plt.hist(sample_norm)"
   ]
  },
  {
   "cell_type": "code",
   "execution_count": 48,
   "metadata": {
    "ExecuteTime": {
     "end_time": "2018-11-08T01:31:33.301857Z",
     "start_time": "2018-11-08T01:31:33.284972Z"
    }
   },
   "outputs": [
    {
     "data": {
      "text/plain": [
       "-0.0444753890624364"
      ]
     },
     "execution_count": 48,
     "metadata": {},
     "output_type": "execute_result"
    }
   ],
   "source": [
    "np.mean(sample_norm)"
   ]
  },
  {
   "cell_type": "code",
   "execution_count": 24,
   "metadata": {
    "ExecuteTime": {
     "end_time": "2018-11-08T01:24:29.145295Z",
     "start_time": "2018-11-08T01:24:29.126497Z"
    }
   },
   "outputs": [
    {
     "data": {
      "text/plain": [
       "-0.013967573499083412"
      ]
     },
     "execution_count": 24,
     "metadata": {},
     "output_type": "execute_result"
    }
   ],
   "source": [
    "stats.skew(sample_norm)"
   ]
  },
  {
   "cell_type": "code",
   "execution_count": 44,
   "metadata": {
    "ExecuteTime": {
     "end_time": "2018-11-08T01:29:54.083647Z",
     "start_time": "2018-11-08T01:29:54.071747Z"
    }
   },
   "outputs": [],
   "source": [
    "sample_skew = stats.skewnorm.rvs(5,size=1000)"
   ]
  },
  {
   "cell_type": "code",
   "execution_count": 47,
   "metadata": {
    "ExecuteTime": {
     "end_time": "2018-11-08T01:31:18.483867Z",
     "start_time": "2018-11-08T01:31:18.469348Z"
    }
   },
   "outputs": [
    {
     "data": {
      "text/plain": [
       "0.7946512518886704"
      ]
     },
     "execution_count": 47,
     "metadata": {},
     "output_type": "execute_result"
    }
   ],
   "source": [
    "np.mean(sample_skew)"
   ]
  },
  {
   "cell_type": "code",
   "execution_count": 45,
   "metadata": {
    "ExecuteTime": {
     "end_time": "2018-11-08T01:29:55.020287Z",
     "start_time": "2018-11-08T01:29:54.871758Z"
    }
   },
   "outputs": [
    {
     "data": {
      "text/plain": [
       "(array([ 42., 230., 268., 229., 130.,  61.,  26.,  12.,   0.,   2.]),\n",
       " array([-0.50834457, -0.08003132,  0.34828192,  0.77659516,  1.2049084 ,\n",
       "         1.63322165,  2.06153489,  2.48984813,  2.91816137,  3.34647462,\n",
       "         3.77478786]),\n",
       " <a list of 10 Patch objects>)"
      ]
     },
     "execution_count": 45,
     "metadata": {},
     "output_type": "execute_result"
    },
    {
     "data": {
      "image/png": "[encoded data removed]",
      "text/plain": [
       "<matplotlib.figure.Figure at 0x7f4f428abbe0>"
      ]
     },
     "metadata": {},
     "output_type": "display_data"
    }
   ],
   "source": [
    "plt.hist(sample_skew)"
   ]
  },
  {
   "cell_type": "code",
   "execution_count": 46,
   "metadata": {
    "ExecuteTime": {
     "end_time": "2018-11-08T01:29:59.788924Z",
     "start_time": "2018-11-08T01:29:59.768414Z"
    }
   },
   "outputs": [
    {
     "data": {
      "text/plain": [
       "0.8027810822430606"
      ]
     },
     "execution_count": 46,
     "metadata": {},
     "output_type": "execute_result"
    }
   ],
   "source": [
    "stats.skew(sample_skew)"
   ]
  }
 ],
 "metadata": {
  "kernelspec": {
   "display_name": "Python 3",
   "language": "python",
   "name": "python3"
  },
  "language_info": {
   "codemirror_mode": {
    "name": "ipython",
    "version": 3
   },
   "file_extension": ".py",
   "mimetype": "text/x-python",
   "name": "python",
   "nbconvert_exporter": "python",
   "pygments_lexer": "ipython3",
   "version": "3.6.3"
  },
  "toc": {
   "nav_menu": {},
   "number_sections": true,
   "sideBar": true,
   "skip_h1_title": false,
   "title_cell": "Table of Contents",
   "title_sidebar": "Contents",
   "toc_cell": false,
   "toc_position": {},
   "toc_section_display": true,
   "toc_window_display": false
  },
  "varInspector": {
   "cols": {
    "lenName": 16,
    "lenType": 16,
    "lenVar": 40
   },
   "kernels_config": {
    "python": {
     "delete_cmd_postfix": "",
     "delete_cmd_prefix": "del ",
     "library": "var_list.py",
     "varRefreshCmd": "print(var_dic_list())"
    },
    "r": {
     "delete_cmd_postfix": ") ",
     "delete_cmd_prefix": "rm(",
     "library": "var_list.r",
     "varRefreshCmd": "cat(var_dic_list()) "
    }
   },
   "types_to_exclude": [
    "module",
    "function",
    "builtin_function_or_method",
    "instance",
    "_Feature"
   ],
   "window_display": false
  }
 },
 "nbformat": 4,
 "nbformat_minor": 2
}
